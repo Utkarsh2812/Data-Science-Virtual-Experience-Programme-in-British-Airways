{
 "cells": [
  {
   "cell_type": "code",
   "execution_count": 1,
   "id": "9de7a818",
   "metadata": {},
   "outputs": [],
   "source": [
    "import pandas as pd\n",
    "\n",
    "# Read the dataset\n",
    "df = pd.read_csv('BA_reviews.csv')"
   ]
  },
  {
   "cell_type": "code",
   "execution_count": 2,
   "id": "a9dde84b",
   "metadata": {},
   "outputs": [
    {
     "data": {
      "text/html": [
       "<div>\n",
       "<style scoped>\n",
       "    .dataframe tbody tr th:only-of-type {\n",
       "        vertical-align: middle;\n",
       "    }\n",
       "\n",
       "    .dataframe tbody tr th {\n",
       "        vertical-align: top;\n",
       "    }\n",
       "\n",
       "    .dataframe thead th {\n",
       "        text-align: right;\n",
       "    }\n",
       "</style>\n",
       "<table border=\"1\" class=\"dataframe\">\n",
       "  <thead>\n",
       "    <tr style=\"text-align: right;\">\n",
       "      <th></th>\n",
       "      <th>Unnamed: 0</th>\n",
       "      <th>reviews</th>\n",
       "    </tr>\n",
       "  </thead>\n",
       "  <tbody>\n",
       "    <tr>\n",
       "      <th>0</th>\n",
       "      <td>0</td>\n",
       "      <td>Not Verified | Only the second time flying BA ...</td>\n",
       "    </tr>\n",
       "    <tr>\n",
       "      <th>1</th>\n",
       "      <td>1</td>\n",
       "      <td>✅ Trip Verified | I wasn't going to bother rev...</td>\n",
       "    </tr>\n",
       "    <tr>\n",
       "      <th>2</th>\n",
       "      <td>2</td>\n",
       "      <td>✅ Trip Verified |  I booked business class tic...</td>\n",
       "    </tr>\n",
       "    <tr>\n",
       "      <th>3</th>\n",
       "      <td>3</td>\n",
       "      <td>✅ Trip Verified |  I will never travel with Br...</td>\n",
       "    </tr>\n",
       "    <tr>\n",
       "      <th>4</th>\n",
       "      <td>4</td>\n",
       "      <td>✅ Trip Verified |  I am already in Portugal so...</td>\n",
       "    </tr>\n",
       "    <tr>\n",
       "      <th>...</th>\n",
       "      <td>...</td>\n",
       "      <td>...</td>\n",
       "    </tr>\n",
       "    <tr>\n",
       "      <th>3539</th>\n",
       "      <td>3539</td>\n",
       "      <td>This was a bmi Regional operated flight on a R...</td>\n",
       "    </tr>\n",
       "    <tr>\n",
       "      <th>3540</th>\n",
       "      <td>3540</td>\n",
       "      <td>LHR to HAM. Purser addresses all club passenge...</td>\n",
       "    </tr>\n",
       "    <tr>\n",
       "      <th>3541</th>\n",
       "      <td>3541</td>\n",
       "      <td>My son who had worked for British Airways urge...</td>\n",
       "    </tr>\n",
       "    <tr>\n",
       "      <th>3542</th>\n",
       "      <td>3542</td>\n",
       "      <td>London City-New York JFK via Shannon on A318 b...</td>\n",
       "    </tr>\n",
       "    <tr>\n",
       "      <th>3543</th>\n",
       "      <td>3543</td>\n",
       "      <td>SIN-LHR BA12 B747-436 First Class. Old aircraf...</td>\n",
       "    </tr>\n",
       "  </tbody>\n",
       "</table>\n",
       "<p>3544 rows × 2 columns</p>\n",
       "</div>"
      ],
      "text/plain": [
       "      Unnamed: 0                                            reviews\n",
       "0              0  Not Verified | Only the second time flying BA ...\n",
       "1              1  ✅ Trip Verified | I wasn't going to bother rev...\n",
       "2              2  ✅ Trip Verified |  I booked business class tic...\n",
       "3              3  ✅ Trip Verified |  I will never travel with Br...\n",
       "4              4  ✅ Trip Verified |  I am already in Portugal so...\n",
       "...          ...                                                ...\n",
       "3539        3539  This was a bmi Regional operated flight on a R...\n",
       "3540        3540  LHR to HAM. Purser addresses all club passenge...\n",
       "3541        3541  My son who had worked for British Airways urge...\n",
       "3542        3542  London City-New York JFK via Shannon on A318 b...\n",
       "3543        3543  SIN-LHR BA12 B747-436 First Class. Old aircraf...\n",
       "\n",
       "[3544 rows x 2 columns]"
      ]
     },
     "execution_count": 2,
     "metadata": {},
     "output_type": "execute_result"
    }
   ],
   "source": [
    "df"
   ]
  },
  {
   "cell_type": "code",
   "execution_count": 4,
   "id": "17e66a74",
   "metadata": {},
   "outputs": [],
   "source": [
    "# Remove duplicate observations\n",
    "df = df.drop_duplicates()\n",
    "\n",
    "# Fix structural errors\n",
    "df['reviews'] = df['reviews'].str.replace('  ', ' ')\n",
    "df['reviews'] = df['reviews'].str.lower()"
   ]
  },
  {
   "cell_type": "code",
   "execution_count": 6,
   "id": "ee9b3a7e",
   "metadata": {},
   "outputs": [
    {
     "name": "stdout",
     "output_type": "stream",
     "text": [
      "<class 'pandas.core.frame.DataFrame'>\n",
      "Int64Index: 3544 entries, 0 to 3543\n",
      "Data columns (total 2 columns):\n",
      " #   Column      Non-Null Count  Dtype \n",
      "---  ------      --------------  ----- \n",
      " 0   Unnamed: 0  3544 non-null   int64 \n",
      " 1   reviews     3544 non-null   object\n",
      "dtypes: int64(1), object(1)\n",
      "memory usage: 83.1+ KB\n"
     ]
    }
   ],
   "source": [
    "# Handle missing data\n",
    "df['reviews'] = df['reviews'].fillna('')\n",
    "\n",
    "# Validate and QA\n",
    "df.info()\n",
    "\n",
    "# Save the cleaned dataset\n",
    "df.to_csv('cleaned_reviews.csv', index=False)"
   ]
  },
  {
   "cell_type": "code",
   "execution_count": null,
   "id": "b4aa697e",
   "metadata": {},
   "outputs": [],
   "source": []
  }
 ],
 "metadata": {
  "kernelspec": {
   "display_name": "Python 3 (ipykernel)",
   "language": "python",
   "name": "python3"
  },
  "language_info": {
   "codemirror_mode": {
    "name": "ipython",
    "version": 3
   },
   "file_extension": ".py",
   "mimetype": "text/x-python",
   "name": "python",
   "nbconvert_exporter": "python",
   "pygments_lexer": "ipython3",
   "version": "3.9.13"
  }
 },
 "nbformat": 4,
 "nbformat_minor": 5
}
